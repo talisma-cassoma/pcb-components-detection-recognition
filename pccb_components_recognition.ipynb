{
  "nbformat": 4,
  "nbformat_minor": 0,
  "metadata": {
    "colab": {
      "name": "pccb components recognition.ipynb",
      "provenance": [],
      "collapsed_sections": [],
      "private_outputs": true,
      "toc_visible": true,
      "include_colab_link": true
    },
    "kernelspec": {
      "display_name": "Python 3",
      "name": "python3"
    },
    "language_info": {
      "name": "python"
    }
  },
  "cells": [
    {
      "cell_type": "markdown",
      "metadata": {
        "id": "view-in-github",
        "colab_type": "text"
      },
      "source": [
        "<a href=\"https://colab.research.google.com/github/talisma-cassoma/pcb-components-detection-recognition/blob/main/pccb_components_recognition.ipynb\" target=\"_parent\"><img src=\"https://colab.research.google.com/assets/colab-badge.svg\" alt=\"Open In Colab\"/></a>"
      ]
    },
    {
      "cell_type": "markdown",
      "source": [
        "acess your drive for store data, create the proj dir...  "
      ],
      "metadata": {
        "id": "9yRLM5nYm2iO"
      }
    },
    {
      "cell_type": "code",
      "metadata": {
        "id": "1KSLnYsgWHcC"
      },
      "source": [
        "from google.colab import drive\n",
        "drive.mount('/content/drive')"
      ],
      "execution_count": null,
      "outputs": []
    },
    {
      "cell_type": "markdown",
      "source": [
        "verify if you setted INVIDIA GPU for the train"
      ],
      "metadata": {
        "id": "WVmAzm5Mngdt"
      }
    },
    {
      "cell_type": "code",
      "metadata": {
        "id": "Odll_EtYCuZJ"
      },
      "source": [
        "!nvidia-smi"
      ],
      "execution_count": null,
      "outputs": []
    },
    {
      "cell_type": "markdown",
      "source": [
        "clone yoloV5 repo"
      ],
      "metadata": {
        "id": "7CYI26o4nxPe"
      }
    },
    {
      "cell_type": "code",
      "metadata": {
        "id": "9Wm_6zAqDHeY"
      },
      "source": [
        "!git clone https://github.com/ultralytics/yolov5"
      ],
      "execution_count": null,
      "outputs": []
    },
    {
      "cell_type": "code",
      "metadata": {
        "id": "bo1DLB-UjVbD"
      },
      "source": [
        "# create a project folder on the drive \n",
        "%mkdir /content/drive/MyDrive/Real_PCB\n",
        "# copy and paste yolov5 folder to my google drive\n",
        "%cp -a /content/yolov5 /content/drive/MyDrive/Real_PCB"
      ],
      "execution_count": null,
      "outputs": []
    },
    {
      "cell_type": "markdown",
      "source": [
        "upload the dataset and place into projet dir "
      ],
      "metadata": {
        "id": "MfB_oqWjpCWm"
      }
    },
    {
      "cell_type": "code",
      "source": [
        "%mkdir /content/drive/MyDrive/Real_PCB/Dataset"
      ],
      "metadata": {
        "id": "KcZQs63jda3F"
      },
      "execution_count": null,
      "outputs": []
    },
    {
      "cell_type": "markdown",
      "source": [
        "now all the projet struture is created <br>\n",
        "so its time for you to upload the dataset avaliable on drive \n",
        "\n",
        "remember it should look like that:\n",
        "```\n",
        "MyDrive/\n",
        "└── Real_PCB/\n",
        "    ├── Dataset/\n",
        "    │   └── pcb_data/\n",
        "    │       ├── data.yaml     \n",
        "    │       ├── test/\n",
        "    │       ├── valid/\n",
        "    │       └── train/\n",
        "    │   \n",
        "    └── yolov5/\n",
        "```\n",
        ":)\n",
        "\n",
        "install projet's dependencies"
      ],
      "metadata": {
        "id": "3Y9FNDQE-J2i"
      }
    },
    {
      "cell_type": "code",
      "metadata": {
        "id": "RMFFF8xRDZV0"
      },
      "source": [
        "!pip install -U -r /content/drive/MyDrive/Real_PCB/yolov5/requirements.txt"
      ],
      "execution_count": null,
      "outputs": []
    },
    {
      "cell_type": "code",
      "metadata": {
        "id": "ZutvrJ2TEl9O"
      },
      "source": [
        "# lets move in to yolo dir\n",
        "%cd /content/drive/MyDrive/Real_PCB"
      ],
      "execution_count": null,
      "outputs": []
    },
    {
      "cell_type": "code",
      "metadata": {
        "id": "puJUMFmcE9ir"
      },
      "source": [
        "!python ./yolov5/train.py --img 416 --batch 16 --epochs 100 --data ./Dataset/pcb_data/data.yaml --cfg ./yolov5/models/yolov5s.yaml --weights /content/drive/MyDrive/Real_PCB --name yolov5s_results  --cache --device 0"
      ],
      "execution_count": null,
      "outputs": []
    },
    {
      "cell_type": "markdown",
      "metadata": {
        "id": "xaG7GpF_GMre"
      },
      "source": [
        "LETS TEST THE MODEL "
      ]
    },
    {
      "cell_type": "code",
      "metadata": {
        "id": "TIRmQW8Rz70H"
      },
      "source": [
        "!python detect.py --weights /content/drive/MyDrive/Real_PCB/yolov5/runs/train/yolov5s_results9/weights/best.pt --img 416 --conf 0.4 --source /content/drive/MyDrive/Real_PCB/test"
      ],
      "execution_count": null,
      "outputs": []
    },
    {
      "cell_type": "code",
      "metadata": {
        "id": "eDNoIbA4igpL"
      },
      "source": [
        "from PIL import Image\n",
        "import os\n",
        "import matplotlib.pyplot as plt\n",
        "\n",
        "src = '/content/drive/MyDrive/Real_PCB/yolov5/runs/detect/exp6/' # Images source\n",
        "\n",
        "files = os.listdir(src) # Getting the files to copy\n",
        "\n",
        "for idx, image_src in enumerate(files):\n",
        "\n",
        "  image = Image.open(f'{src}{image_src}',\"r\")  \n",
        "\n",
        "  plt.subplots(figsize=(30, 30)) \n",
        "  plt.subplot(2,2, (idx+1)), plt.imshow(image, cmap='gray') #2, 3 because you wanna show SIX images\n",
        "\n",
        "plt.show()"
      ],
      "execution_count": null,
      "outputs": []
    }
  ]
}